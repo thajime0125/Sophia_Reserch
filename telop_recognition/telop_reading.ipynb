{
 "cells": [
  {
   "cell_type": "code",
   "execution_count": 9,
   "metadata": {},
   "outputs": [],
   "source": [
    "import os\n",
    "import pandas as pd\n",
    "import cv2\n",
    "import matplotlib.pyplot as plt\n",
    "filedir = \"../data/scores/\""
   ]
  },
  {
   "cell_type": "code",
   "execution_count": 10,
   "metadata": {},
   "outputs": [
    {
     "ename": "NameError",
     "evalue": "name 'img' is not defined",
     "output_type": "error",
     "traceback": [
      "\u001b[0;31m---------------------------------------------------------------------------\u001b[0m",
      "\u001b[0;31mNameError\u001b[0m                                 Traceback (most recent call last)",
      "\u001b[1;32mセル2 を /Users/takayamahajime/development/Sophia_Reserch/telop_recognition/telop_reading.ipynb\u001b[0m in \u001b[0;36m<cell line: 8>\u001b[0;34m()\u001b[0m\n\u001b[1;32m      <a href='vscode-notebook-cell:/Users/takayamahajime/development/Sophia_Reserch/telop_recognition/telop_reading.ipynb#W2sZmlsZQ%3D%3D?line=5'>6</a>\u001b[0m     \u001b[39mif\u001b[39;00m n \u001b[39m<\u001b[39m i:\n\u001b[1;32m      <a href='vscode-notebook-cell:/Users/takayamahajime/development/Sophia_Reserch/telop_recognition/telop_reading.ipynb#W2sZmlsZQ%3D%3D?line=6'>7</a>\u001b[0m         \u001b[39mbreak\u001b[39;00m\n\u001b[0;32m----> <a href='vscode-notebook-cell:/Users/takayamahajime/development/Sophia_Reserch/telop_recognition/telop_reading.ipynb#W2sZmlsZQ%3D%3D?line=7'>8</a>\u001b[0m plt\u001b[39m.\u001b[39mimshow(img)\n",
      "\u001b[0;31mNameError\u001b[0m: name 'img' is not defined"
     ]
    }
   ],
   "source": [
    "n = 660\n",
    "for i in range(0, 260000, 60):\n",
    "    filepath = f'{filedir}score{i}.jpg'\n",
    "    if os.path.isfile(filepath):\n",
    "        img = cv2.imread(filepath)\n",
    "    if n < i:\n",
    "        break\n",
    "plt.imshow(img)"
   ]
  },
  {
   "cell_type": "code",
   "execution_count": null,
   "metadata": {},
   "outputs": [],
   "source": []
  }
 ],
 "metadata": {
  "kernelspec": {
   "display_name": "Python 3.8.13 ('sotsuken')",
   "language": "python",
   "name": "python3"
  },
  "language_info": {
   "codemirror_mode": {
    "name": "ipython",
    "version": 3
   },
   "file_extension": ".py",
   "mimetype": "text/x-python",
   "name": "python",
   "nbconvert_exporter": "python",
   "pygments_lexer": "ipython3",
   "version": "3.8.13"
  },
  "orig_nbformat": 4,
  "vscode": {
   "interpreter": {
    "hash": "6407a31c4d2dd5f8b3fb847638ff15597179155268e1f2e2a47005e11452e4f1"
   }
  }
 },
 "nbformat": 4,
 "nbformat_minor": 2
}

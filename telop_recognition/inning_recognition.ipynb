{
 "cells": [
  {
   "cell_type": "code",
   "execution_count": 4,
   "metadata": {},
   "outputs": [],
   "source": [
    "import glob\n",
    "import re\n",
    "\n",
    "from PIL import Image\n",
    "import cv2\n",
    "import numpy as np\n",
    "import pandas as pd\n",
    "from tensorflow.keras.models import Sequential\n",
    "from tensorflow.keras.layers import Conv2D, MaxPooling2D\n",
    "from tensorflow.keras.layers import Activation,Dropout,Flatten,Dense\n",
    "from tensorflow.keras.utils import to_categorical"
   ]
  },
  {
   "cell_type": "code",
   "execution_count": 5,
   "metadata": {},
   "outputs": [],
   "source": [
    "IMG_DATA_DIR = '../data/scores/'\n",
    "LABEL_DATA = '../data/inning.csv'\n",
    "IMG_WIDTH = 320\n",
    "IMG_HEIGHT = 90\n",
    "img_files = glob.glob(IMG_DATA_DIR + '*.jpg')\n",
    "label = pd.read_csv(LABEL_DATA)"
   ]
  },
  {
   "cell_type": "code",
   "execution_count": 6,
   "metadata": {},
   "outputs": [],
   "source": [
    "# creare train data\n",
    "x_train = []\n",
    "y_train = []\n",
    "x_test = []\n",
    "y_test = []\n",
    "for i, img_file in enumerate(img_files):\n",
    "    file_num = re.sub(r'\\D', '', img_file)\n",
    "    label_num = label[label['frame'] == int(file_num)]['inning'].values[0]\n",
    "    img = Image.open(img_file)\n",
    "    img = img.resize((IMG_WIDTH, IMG_HEIGHT))\n",
    "    img = np.asarray(img)\n",
    "\n",
    "    if i % 5 == 0:\n",
    "        x_test.append(img)\n",
    "        y_test.append(label_num)\n",
    "    else:\n",
    "        x_train.append(img)\n",
    "        y_train.append(label_num)\n",
    "\n",
    "x_train = np.array(x_train)\n",
    "x_test  = np.array(x_test)\n",
    "y_train = np.array(y_train)\n",
    "y_test  = np.array(y_test)"
   ]
  },
  {
   "cell_type": "code",
   "execution_count": 7,
   "metadata": {},
   "outputs": [
    {
     "data": {
      "text/plain": [
       "(2572, 90, 320, 3)"
      ]
     },
     "execution_count": 7,
     "metadata": {},
     "output_type": "execute_result"
    }
   ],
   "source": [
    "x_train.shape"
   ]
  },
  {
   "cell_type": "code",
   "execution_count": 8,
   "metadata": {},
   "outputs": [],
   "source": [
    "# preprocessing\n",
    "x_train = x_train.astype('float32') / 255\n",
    "x_test  = x_test.astype('float32') / 255\n",
    "y_train = to_categorical(y_train, 10)\n",
    "y_test  = to_categorical(y_test, 10)"
   ]
  },
  {
   "cell_type": "code",
   "execution_count": 13,
   "metadata": {},
   "outputs": [],
   "source": [
    "# create model\n",
    "model = Sequential()\n",
    "model.add(Conv2D(8, kernel_size=(3, 3), activation='relu', input_shape=(IMG_HEIGHT, IMG_WIDTH, 3)))\n",
    "model.add(MaxPooling2D(pool_size=(2, 2)))\n",
    "model.add(Dropout(0.25))\n",
    "model.add(Conv2D(16, kernel_size=(3, 3), activation='relu'))\n",
    "model.add(MaxPooling2D(pool_size=(2, 2)))\n",
    "model.add(Dropout(0.25))\n",
    "model.add(Flatten())\n",
    "model.add(Dense(32, activation='relu'))\n",
    "model.add(Dense(10, activation='softmax'))\n",
    "\n",
    "model.compile(loss='categorical_crossentropy', optimizer='sgd', metrics=['accuracy'])"
   ]
  },
  {
   "cell_type": "code",
   "execution_count": 14,
   "metadata": {},
   "outputs": [
    {
     "name": "stdout",
     "output_type": "stream",
     "text": [
      "Epoch 1/10\n"
     ]
    },
    {
     "name": "stderr",
     "output_type": "stream",
     "text": [
      "2022-11-10 13:49:36.588230: I tensorflow/core/grappler/optimizers/custom_graph_optimizer_registry.cc:114] Plugin optimizer for device_type GPU is enabled.\n"
     ]
    },
    {
     "name": "stdout",
     "output_type": "stream",
     "text": [
      "81/81 [==============================] - 3s 37ms/step - loss: 1.9098 - accuracy: 0.3247\n",
      "Epoch 2/10\n",
      "81/81 [==============================] - 3s 39ms/step - loss: 1.0956 - accuracy: 0.6621\n",
      "Epoch 3/10\n",
      "81/81 [==============================] - 3s 34ms/step - loss: 0.4628 - accuracy: 0.8806\n",
      "Epoch 4/10\n",
      "81/81 [==============================] - 3s 37ms/step - loss: 0.1807 - accuracy: 0.9611\n",
      "Epoch 5/10\n",
      "81/81 [==============================] - 3s 33ms/step - loss: 0.0756 - accuracy: 0.9868\n",
      "Epoch 6/10\n",
      "81/81 [==============================] - 3s 33ms/step - loss: 0.0242 - accuracy: 0.9988\n",
      "Epoch 7/10\n",
      "81/81 [==============================] - 3s 33ms/step - loss: 0.0137 - accuracy: 1.0000\n",
      "Epoch 8/10\n",
      "81/81 [==============================] - 3s 34ms/step - loss: 0.0092 - accuracy: 1.0000\n",
      "Epoch 9/10\n",
      "81/81 [==============================] - 3s 35ms/step - loss: 0.0068 - accuracy: 1.0000\n",
      "Epoch 10/10\n",
      "81/81 [==============================] - 3s 33ms/step - loss: 0.0051 - accuracy: 1.0000\n"
     ]
    }
   ],
   "source": [
    "history = model.fit(x_train, y_train, epochs=10)"
   ]
  },
  {
   "cell_type": "code",
   "execution_count": 15,
   "metadata": {},
   "outputs": [
    {
     "name": "stdout",
     "output_type": "stream",
     "text": [
      " 4/21 [====>.........................] - ETA: 0s - loss: 0.0077 - accuracy: 1.0000"
     ]
    },
    {
     "name": "stderr",
     "output_type": "stream",
     "text": [
      "2022-11-10 13:50:07.417569: I tensorflow/core/grappler/optimizers/custom_graph_optimizer_registry.cc:114] Plugin optimizer for device_type GPU is enabled.\n"
     ]
    },
    {
     "name": "stdout",
     "output_type": "stream",
     "text": [
      "21/21 [==============================] - 1s 32ms/step - loss: 0.0071 - accuracy: 1.0000\n"
     ]
    },
    {
     "data": {
      "text/plain": [
       "[0.0071387579664587975, 1.0]"
      ]
     },
     "execution_count": 15,
     "metadata": {},
     "output_type": "execute_result"
    }
   ],
   "source": [
    "model.evaluate(x_test, y_test)"
   ]
  },
  {
   "cell_type": "code",
   "execution_count": null,
   "metadata": {},
   "outputs": [],
   "source": []
  }
 ],
 "metadata": {
  "kernelspec": {
   "display_name": "Python 3.8.13 ('sophia')",
   "language": "python",
   "name": "python3"
  },
  "language_info": {
   "codemirror_mode": {
    "name": "ipython",
    "version": 3
   },
   "file_extension": ".py",
   "mimetype": "text/x-python",
   "name": "python",
   "nbconvert_exporter": "python",
   "pygments_lexer": "ipython3",
   "version": "3.8.13 | packaged by conda-forge | (default, Mar 25 2022, 06:05:16) \n[Clang 12.0.1 ]"
  },
  "orig_nbformat": 4,
  "vscode": {
   "interpreter": {
    "hash": "0b08dcc2beec681662bace937cfe0065977843c83695ba1230b4495c1b35e89e"
   }
  }
 },
 "nbformat": 4,
 "nbformat_minor": 2
}

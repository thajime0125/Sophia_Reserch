{
 "cells": [
  {
   "cell_type": "code",
   "execution_count": null,
   "metadata": {},
   "outputs": [],
   "source": [
    "import cv2\n",
    "import numpy as np\n",
    "INFILE = \"../camera.mp4\" # movie file\n",
    "THRESH = 55.55679398148148 # threshold "
   ]
  },
  {
   "cell_type": "code",
   "execution_count": null,
   "metadata": {},
   "outputs": [],
   "source": [
    "class MovieIter(object): #動画のフレームを返すイテレータ\n",
    "    def __init__(self, moviefile, size=None, inter_method=cv2.INTER_AREA):\n",
    "        #TODO: check if moviefile exists\n",
    "        self.org = cv2.VideoCapture(moviefile)\n",
    "        self.framecnt = 0\n",
    "        self.size = size #frame size\n",
    "        self.inter_method = inter_method\n",
    "    def __iter__(self):\n",
    "        return self\n",
    "    def __next__(self):\n",
    "        self.end_flg, self.frame = self.org.read()\n",
    "        if not self.end_flg: # end of the movie\n",
    "            raise StopIteration()\n",
    "        self.framecnt+=1\n",
    "        if self.size: # resize when size is specified\n",
    "            self.frame = cv2.resize(self.frame, self.size, interpolation=self.inter_method)\n",
    "        return self.frame\n",
    "    def __del__(self): # anyway it works without destructor \n",
    "        self.org.release()\n",
    "\n",
    "def MSE(pic): # mean square error\n",
    "    return np.mean(np.square(pic))\n",
    "    \n",
    "def MAE(pic): # mean absolute error\n",
    "    return np.mean(np.abs(pic))\n",
    "\n",
    "def main():\n",
    "    picsize = (64, 36)\n",
    "    \n",
    "    frame_cnt = 0\n",
    "    frame_ultima = np.zeros((*picsize[::-1], 3)) # create empty image\n",
    "    \n",
    "    for frame in MovieIter(INFILE, None):\n",
    "        frame_penult = frame_ultima\n",
    "        frame_ultima = cv2.resize(frame, picsize, interpolation=cv2.INTER_AREA) #指定サイズに縮小\n",
    "        \n",
    "        cv2.imshow(WINNAME, frame)\n",
    "        key = cv2.waitKey(1) # quit when esc-key pressed\n",
    "        if key == ESC_KEY:\n",
    "            break\n",
    "        \n",
    "        #差分画像作成\n",
    "        diff = frame_ultima.astype(np.int) - frame_penult.astype(np.int)\n",
    "        \n",
    "        if MAE(diff)>=THRESH: #閾値よりMAEが大きい場合、カットと判定\n",
    "            print(\"Cut detected!: frame {}\".format(frame_cnt))\n",
    "        \n",
    "        frame_cnt+=1\n",
    "    \n",
    "\n",
    "if __name__ == \"__main__\":\n",
    "    main()"
   ]
  }
 ],
 "metadata": {
  "kernelspec": {
   "display_name": "Python 3.8.13 ('sotsuken')",
   "language": "python",
   "name": "python3"
  },
  "language_info": {
   "name": "python",
   "version": "3.8.13"
  },
  "orig_nbformat": 4,
  "vscode": {
   "interpreter": {
    "hash": "6407a31c4d2dd5f8b3fb847638ff15597179155268e1f2e2a47005e11452e4f1"
   }
  }
 },
 "nbformat": 4,
 "nbformat_minor": 2
}
